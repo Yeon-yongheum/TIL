{
 "cells": [
  {
   "cell_type": "code",
   "execution_count": 207,
   "metadata": {
    "scrolled": true
   },
   "outputs": [
    {
     "name": "stdout",
     "output_type": "stream",
     "text": [
      "2019-07-13\n",
      "2019-07-06\n",
      "2019-06-29\n",
      "2019-06-22\n",
      "2019-06-15\n",
      "2019-06-08\n",
      "2019-06-01\n",
      "2019-05-25\n",
      "2019-05-18\n",
      "2019-05-11\n",
      "2019-05-04\n",
      "2019-04-27\n",
      "2019-04-20\n",
      "2019-04-13\n",
      "2019-04-06\n",
      "2019-03-30\n",
      "2019-03-23\n",
      "2019-03-16\n",
      "2019-03-09\n",
      "2019-03-02\n",
      "2019-02-23\n",
      "2019-02-16\n",
      "2019-02-09\n",
      "2019-02-02\n",
      "2019-01-26\n",
      "2019-01-19\n",
      "2019-01-12\n",
      "2019-01-05\n",
      "2018-12-29\n",
      "2018-12-22\n",
      "2018-12-15\n",
      "2018-12-08\n",
      "2018-12-01\n",
      "2018-11-24\n",
      "2018-11-17\n",
      "2018-11-10\n",
      "2018-11-03\n",
      "2018-10-27\n",
      "2018-10-20\n",
      "2018-10-13\n",
      "2018-10-06\n",
      "2018-09-29\n",
      "2018-09-22\n",
      "2018-09-15\n",
      "2018-09-08\n",
      "2018-09-01\n",
      "2018-08-25\n",
      "2018-08-18\n",
      "2018-08-11\n",
      "2018-08-04\n"
     ]
    }
   ],
   "source": [
    "import datetime\n",
    "from datetime import timedelta, date\n",
    "import requests\n",
    "import json\n",
    "import csv\n",
    "import pprint\n",
    "key = ''\n",
    "today = datetime.date(2019,7,13)\n",
    "td=timedelta(days=7)\n",
    "result = []\n",
    "result2 = []\n",
    "count = 0\n",
    "movie = {}\n",
    "with open('boxoﬃce.csv', 'w', encoding='utf-8') as f:\n",
    "    fieldnames = {'movieCd', 'movieNm', 'audiAcc'} #여기만 변경\n",
    "    csv_writer = csv.DictWriter(f, fieldnames=fieldnames)\n",
    "    csv_writer.writeheader()\n",
    "    for i in range(50):\n",
    "        \n",
    "        print(today)\n",
    "    \n",
    "        targetDt = today.strftime('%Y%m%d')\n",
    "        api_url =  f'http://www.kobis.or.kr/kobisopenapi/webservice/rest/boxoffice/searchWeeklyBoxOfficeList.json?key={key}&targetDt={targetDt}&weekGb=0'\n",
    "#      print(api_url)\n",
    "        response = requests.get(api_url).json()\n",
    "        result.append(response)\n",
    "#         print(result)\n",
    "        for j in result:\n",
    "             for item in j['boxOfficeResult']['weeklyBoxOfficeList']: #맞는 딕셔너리 만든것 반복\n",
    "                movie[item.get('movieCd')] = {'movieCd':item['movieCd'],\n",
    "                'movieNm' : item['movieNm'],    \n",
    "                'audiAcc' : item['audiAcc']     \n",
    "                }\n",
    "                record = {'movieCd':item['movieCd'],\n",
    "                'movieNm' : item['movieNm'],    \n",
    "                'audiAcc' : item['audiAcc']     \n",
    "                }\n",
    "                if item['movieCd'] not in result2:\n",
    "                    result2.append(item['movieCd'])\n",
    "                    csv_writer.writerow(record)\n",
    "        today = (today - td)"
   ]
  },
  {
   "cell_type": "code",
   "execution_count": 201,
   "metadata": {},
   "outputs": [
    {
     "name": "stdout",
     "output_type": "stream",
     "text": [
      "186\n",
      "20180804\n"
     ]
    }
   ],
   "source": [
    "print(count)\n",
    "import datetime\n",
    "timeDt = datetime.datetime(2019, 7, 13) - datetime.timedelta(weeks=49)\n",
    "print(timeDt.strftime('%Y%m%d'))"
   ]
  },
  {
   "cell_type": "code",
   "execution_count": null,
   "metadata": {},
   "outputs": [],
   "source": []
  },
  {
   "cell_type": "code",
   "execution_count": null,
   "metadata": {},
   "outputs": [],
   "source": []
  },
  {
   "cell_type": "code",
   "execution_count": null,
   "metadata": {},
   "outputs": [],
   "source": []
  },
  {
   "cell_type": "code",
   "execution_count": null,
   "metadata": {},
   "outputs": [],
   "source": []
  },
  {
   "cell_type": "code",
   "execution_count": null,
   "metadata": {},
   "outputs": [],
   "source": []
  },
  {
   "cell_type": "code",
   "execution_count": null,
   "metadata": {},
   "outputs": [],
   "source": [
    "# 최종 주석 없는 코드\n",
    "import csv\n",
    "import datetime\n",
    "import requests\n",
    "\n",
    "key = '----'\n",
    "movie_data = {}\n",
    "for i in range(5):\n",
    "    targetDt = datetime.datetime(2019, 7, 13) - datetime.timedelta(weeks=i)\n",
    "    targetDt = targetDt.strftime('%Y%m%d')\n",
    "    api_url = f'http://www.kobis.or.kr/kobisopenapi/webservice/rest/boxoffice/searchWeeklyBoxOfficeList.json?key={key}&targetDt={targetDt}&weekGb=0'\n",
    "    response = requests.get(api_url).json()\n",
    "    for movie in response['boxOfficeResult']['weeklyBoxOfficeList']:\n",
    "        if movie.get('movieCd') not in movie_data:\n",
    "            movie_data[movie.get('movieCd')] = {\n",
    "                                                '영화코드': movie.get('movieCd'),\n",
    "                                                '누적관객수': movie.get('audiAcc'),\n",
    "                                                '영화이름': movie.get('movieNm')\n",
    "                                            }\n",
    "\n",
    "with open('boxoffice.csv', 'w', encoding='utf-8') as f:\n",
    "    fieldnames = ['영화코드', '누적관객수', '영화이름'] \n",
    "    csv_writer = csv.DictWriter(f, fieldnames=fieldnames)\n",
    "    csv_writer.writeheader()\n",
    "    for item in movie_data.values():\n",
    "        csv_writer.writerow(item)"
   ]
  }
 ],
 "metadata": {
  "kernelspec": {
   "display_name": "Python 3",
   "language": "python",
   "name": "python3"
  },
  "language_info": {
   "codemirror_mode": {
    "name": "ipython",
    "version": 3
   },
   "file_extension": ".py",
   "mimetype": "text/x-python",
   "name": "python",
   "nbconvert_exporter": "python",
   "pygments_lexer": "ipython3",
   "version": "3.7.4"
  },
  "toc": {
   "base_numbering": 1,
   "nav_menu": {},
   "number_sections": true,
   "sideBar": true,
   "skip_h1_title": false,
   "title_cell": "Table of Contents",
   "title_sidebar": "Contents",
   "toc_cell": false,
   "toc_position": {},
   "toc_section_display": true,
   "toc_window_display": false
  }
 },
 "nbformat": 4,
 "nbformat_minor": 2
}
