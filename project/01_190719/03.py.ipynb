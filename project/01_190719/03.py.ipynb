{
 "cells": [
  {
   "cell_type": "code",
   "execution_count": 30,
   "metadata": {},
   "outputs": [
    {
     "name": "stdout",
     "output_type": "stream",
     "text": [
      "http://www.kobis.or.kr/kobisopenapi/webservice/rest/people/searchPeopleList.json?key=7d4cb6a2688af3a611456f58af3a0a82&peopleNm=이수\n",
      "[{'filmoNames': '항거:유관순 이야기',\n",
      "  'peopleCd': '20325317',\n",
      "  'peopleNm': '이수연',\n",
      "  'peopleNmEn': '',\n",
      "  'repRoleNm': '연출팀'},\n",
      " {'filmoNames': '스윙키즈|택시운전사|마이 웨이|최종병기 활|퀵|고지전',\n",
      "  'peopleCd': '20160675',\n",
      "  'peopleNm': '이수현',\n",
      "  'peopleNmEn': '',\n",
      "  'repRoleNm': 'VFX 아티스트'},\n",
      " {'filmoNames': '번개맨의 비밀',\n",
      "  'peopleCd': '20321953',\n",
      "  'peopleNm': '이수현',\n",
      "  'peopleNmEn': '',\n",
      "  'repRoleNm': '배우'},\n",
      " {'filmoNames': '마약왕',\n",
      "  'peopleCd': '20321943',\n",
      "  'peopleNm': '이수현',\n",
      "  'peopleNmEn': '',\n",
      "  'repRoleNm': '배우'},\n",
      " {'filmoNames': '이,기적인 남자',\n",
      "  'peopleCd': '20321942',\n",
      "  'peopleNm': '이수현',\n",
      "  'peopleNmEn': '',\n",
      "  'repRoleNm': '배우'},\n",
      " {'filmoNames': '너와 극장에서',\n",
      "  'peopleCd': '20321941',\n",
      "  'peopleNm': '이수현',\n",
      "  'peopleNmEn': '',\n",
      "  'repRoleNm': '배우'},\n",
      " {'filmoNames': '착한 이모의 은밀한 아르바이트|성인용품 사용설명서',\n",
      "  'peopleCd': '20321952',\n",
      "  'peopleNm': '이수현',\n",
      "  'peopleNmEn': '',\n",
      "  'repRoleNm': '음악'},\n",
      " {'filmoNames': '번 더 스테이지: 더 무비',\n",
      "  'peopleCd': '20321940',\n",
      "  'peopleNm': '이수진',\n",
      "  'peopleNmEn': '',\n",
      "  'repRoleNm': '시나리오(각본)'},\n",
      " {'filmoNames': 'PMC: 더 벙커',\n",
      "  'peopleCd': '20321931',\n",
      "  'peopleNm': '이수진',\n",
      "  'peopleNmEn': '',\n",
      "  'repRoleNm': '스튜디오'},\n",
      " {'filmoNames': '점박이 한반도의 공룡2 : 새로운 낙원|게이트|채비|인천상륙작전|희생부활자|친구 2|노브레싱|미스터 고',\n",
      "  'peopleCd': '20186214',\n",
      "  'peopleNm': '이수진',\n",
      "  'peopleNmEn': '',\n",
      "  'repRoleNm': 'VFX 아티스트'}]\n"
     ]
    }
   ],
   "source": [
    "import requests\n",
    "import pprint\n",
    "import json\n",
    "import csv\n",
    "key = ''\n",
    "peopleCd = 20000000\n",
    "api_url = f'http://www.kobis.or.kr/kobisopenapi/webservice/rest/people/searchPeopleList.json?key={key}&peopleNm={super}'\n",
    "\n",
    "with open('movie.csv', 'r', encoding='utf-8') as f:\n",
    "    reader = csv.DictReader(f)\n",
    "    for row in reader:\n",
    "        movie_list.append(row.get())\n",
    "        \n",
    "        \n",
    "        \n",
    "        \n",
    "print(api_url)\n",
    "response = requests.get(api_url).json()\n",
    "# pprint.pprint(response)\n",
    "name = response['peopleListResult']['peopleList']\n",
    "pprint.pprint(name)"
   ]
  },
  {
   "cell_type": "code",
   "execution_count": null,
   "metadata": {},
   "outputs": [],
   "source": []
  }
 ],
 "metadata": {
  "kernelspec": {
   "display_name": "Python 3",
   "language": "python",
   "name": "python3"
  },
  "language_info": {
   "codemirror_mode": {
    "name": "ipython",
    "version": 3
   },
   "file_extension": ".py",
   "mimetype": "text/x-python",
   "name": "python",
   "nbconvert_exporter": "python",
   "pygments_lexer": "ipython3",
   "version": "3.7.4"
  },
  "toc": {
   "base_numbering": 1,
   "nav_menu": {},
   "number_sections": true,
   "sideBar": true,
   "skip_h1_title": false,
   "title_cell": "Table of Contents",
   "title_sidebar": "Contents",
   "toc_cell": false,
   "toc_position": {},
   "toc_section_display": true,
   "toc_window_display": false
  }
 },
 "nbformat": 4,
 "nbformat_minor": 2
}
