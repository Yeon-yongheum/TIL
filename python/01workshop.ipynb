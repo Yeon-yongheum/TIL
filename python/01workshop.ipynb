{
 "cells": [
  {
   "cell_type": "code",
   "execution_count": 17,
   "metadata": {},
   "outputs": [
    {
     "name": "stdout",
     "output_type": "stream",
     "text": [
      "*****\n",
      "*   *\n",
      "*   *\n",
      "*   *\n",
      "*   *\n",
      "*   *\n",
      "*   *\n",
      "*   *\n",
      "*****\n",
      "\n",
      "\n",
      "\"파일은 C:\\Windows\\Users\\내문서\\Phthon에 저장이 되어 있습니다.\"\n",
      "나는 생각했다. 'cd를 써서 gitbash로 들어가봐야지'\n",
      "\n",
      "\n",
      "[3.0, -7.0]\n"
     ]
    }
   ],
   "source": [
    "n=5\n",
    "m=9\n",
    "print('*'*n+'\\n'+('*'+' '*(n-2)+'*\\n')*(m-2)+'*'*n)\n",
    "\n",
    "\n",
    "print('\\n')\n",
    "\n",
    "\n",
    "print('''\"파일은 C:\\\\Windows\\\\Users\\\\내문서\\\\Phthon에 저장이 되어 있습니다.\"\n",
    "나는 생각했다. \\'cd를 써서 gitbash로 들어가봐야지\\'''')\n",
    "\n",
    "\n",
    "print('\\n')\n",
    "\n",
    "\n",
    "a=1\n",
    "b=4\n",
    "c=-21\n",
    "x=[(-b+((b**2-4*a*c)**(1/2)))/2*a,(-b-((b**2-4*a*c)**(1/2)))/2*a]\n",
    "print(x)"
   ]
  }
 ],
 "metadata": {
  "kernelspec": {
   "display_name": "Python 3",
   "language": "python",
   "name": "python3"
  },
  "language_info": {
   "codemirror_mode": {
    "name": "ipython",
    "version": 3
   },
   "file_extension": ".py",
   "mimetype": "text/x-python",
   "name": "python",
   "nbconvert_exporter": "python",
   "pygments_lexer": "ipython3",
   "version": "3.7.3"
  }
 },
 "nbformat": 4,
 "nbformat_minor": 2
}
