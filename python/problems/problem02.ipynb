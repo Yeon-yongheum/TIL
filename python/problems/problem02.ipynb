{
 "cells": [
  {
   "cell_type": "markdown",
   "metadata": {},
   "source": [
    "# 모든코인 상승장? 하락장?\n",
    "> 최고가와 최저가의 차이를 변동폭으로 정의할 때 (시가 + 변동폭)이 최고가 보다 높을 경우 \"상승장\", 그렇지 않은 경우 \"하락장\" 문자열을 출력하라.\n",
    "\n",
    "\n",
    "|Key Name|Description|\n",
    "|------|---|\n",
    "|opeing_price|최근 24시간 내 시작 거래금액|\n",
    "|closing_price|최근 24시간 내 마지막 거래금액|\n",
    "|min_price|최근 24시간 내 최저 거래금액|\n",
    "|max_price|최근 24시간 내 최고 거래금액|"
   ]
  },
  {
   "cell_type": "code",
   "execution_count": 1,
   "metadata": {},
   "outputs": [
    {
     "name": "stdout",
     "output_type": "stream",
     "text": [
      "BTC는 상승장\n",
      "ETH는 상승장\n",
      "DASH는 상승장\n",
      "LTC는 상승장\n",
      "ETC는 상승장\n",
      "XRP는 상승장\n",
      "BCH는 상승장\n",
      "XMR는 상승장\n",
      "ZEC는 상승장\n",
      "QTUM는 상승장\n",
      "BTG는 상승장\n",
      "EOS는 상승장\n",
      "ICX는 상승장\n",
      "VET는 상승장\n",
      "TRX는 상승장\n",
      "ELF는 상승장\n",
      "MITH는 상승장\n",
      "MCO는 상승장\n",
      "OMG는 상승장\n",
      "KNC는 상승장\n",
      "GNT는 상승장\n",
      "ZIL는 상승장\n",
      "ETHOS는 상승장\n",
      "PAY는 상승장\n",
      "WAX는 상승장\n",
      "POWR는 상승장\n",
      "LRC는 상승장\n",
      "GTO는 상승장\n",
      "STEEM는 상승장\n",
      "STRAT는 상승장\n",
      "ZRX는 상승장\n",
      "REP는 상승장\n",
      "AE는 상승장\n",
      "XEM는 상승장\n",
      "SNT는 상승장\n",
      "ADA는 상승장\n",
      "PPT는 상승장\n",
      "CTXC는 상승장\n",
      "CMT는 상승장\n",
      "THETA는 상승장\n",
      "WTC는 상승장\n",
      "ITC는 상승장\n",
      "TRUE는 상승장\n",
      "ABT는 상승장\n",
      "RNT는 상승장\n",
      "PLY는 상승장\n",
      "WAVES는 상승장\n",
      "LINK는 상승장\n",
      "ENJ는 상승장\n",
      "PST는 상승장\n",
      "SALT는 상승장\n",
      "RDN는 상승장\n",
      "LOOM는 상승장\n",
      "PIVX는 하락장\n",
      "INS는 상승장\n",
      "BCD는 상승장\n",
      "BZNT는 상승장\n",
      "XLM는 상승장\n",
      "OCN는 상승장\n",
      "BSV는 상승장\n",
      "TMTG는 상승장\n",
      "BAT는 상승장\n",
      "WET는 상승장\n",
      "XVG는 상승장\n",
      "IOST는 상승장\n",
      "POLY는 상승장\n",
      "HC는 상승장\n",
      "ROM는 상승장\n",
      "AMO는 상승장\n",
      "ETZ는 상승장\n",
      "ARN는 상승장\n",
      "APIS는 상승장\n",
      "MTL는 상승장\n",
      "DACC는 상승장\n",
      "DAC는 상승장\n",
      "BHP는 상승장\n",
      "BTT는 상승장\n",
      "HDAC는 상승장\n",
      "NPXS는 상승장\n",
      "AUTO는 상승장\n",
      "GXC는 상승장\n",
      "ORBS는 상승장\n",
      "VALOR는 상승장\n",
      "CON는 상승장\n",
      "ANKR는 상승장\n",
      "MIX는 상승장\n",
      "HYC는 상승장\n",
      "LBA는 상승장\n"
     ]
    }
   ],
   "source": [
    "import requests\n",
    "import pprint\n",
    "url = \"https://api.bithumb.com/public/ticker/all\"\n",
    "data = requests.get(url).json()['data']\n",
    "del data['date']\n",
    "#pprint.pprint(data)\n",
    "for k,v in data.items():\n",
    "\n",
    "    if float(v['opening_price']) + float(v['max_price']) - float(v['min_price']) > float(v['max_price']):\n",
    "        print(f'{k}는 상승장')\n",
    "    else :\n",
    "        print(f'{k}는 하락장')\n",
    "            \n",
    "            \n",
    "            "
   ]
  },
  {
   "cell_type": "code",
   "execution_count": 2,
   "metadata": {},
   "outputs": [
    {
     "name": "stdout",
     "output_type": "stream",
     "text": [
      "상승장\n",
      "상승장\n",
      "상승장\n",
      "상승장\n",
      "상승장\n",
      "상승장\n",
      "상승장\n",
      "상승장\n",
      "상승장\n",
      "상승장\n",
      "상승장\n",
      "상승장\n",
      "상승장\n",
      "상승장\n",
      "상승장\n",
      "상승장\n",
      "상승장\n",
      "상승장\n",
      "상승장\n",
      "상승장\n",
      "상승장\n",
      "상승장\n",
      "상승장\n",
      "상승장\n",
      "상승장\n",
      "상승장\n",
      "상승장\n",
      "상승장\n",
      "상승장\n",
      "상승장\n",
      "상승장\n",
      "상승장\n",
      "상승장\n",
      "상승장\n",
      "상승장\n",
      "상승장\n",
      "상승장\n",
      "상승장\n",
      "상승장\n",
      "상승장\n",
      "상승장\n",
      "상승장\n",
      "상승장\n",
      "상승장\n",
      "상승장\n",
      "상승장\n",
      "상승장\n",
      "상승장\n",
      "상승장\n",
      "상승장\n",
      "상승장\n",
      "상승장\n",
      "상승장\n",
      "하락장\n",
      "상승장\n",
      "상승장\n",
      "상승장\n",
      "상승장\n",
      "상승장\n",
      "상승장\n",
      "상승장\n",
      "상승장\n",
      "상승장\n",
      "상승장\n",
      "상승장\n",
      "상승장\n",
      "상승장\n",
      "상승장\n",
      "상승장\n",
      "상승장\n",
      "상승장\n",
      "상승장\n",
      "상승장\n",
      "상승장\n",
      "상승장\n",
      "상승장\n",
      "상승장\n",
      "상승장\n",
      "상승장\n",
      "상승장\n",
      "상승장\n",
      "상승장\n",
      "상승장\n",
      "상승장\n",
      "상승장\n",
      "상승장\n",
      "상승장\n",
      "상승장\n"
     ]
    }
   ],
   "source": [
    "# 풀이\n",
    "import requests\n",
    "import pprint\n",
    "url = \"https://api.bithumb.com/public/ticker/all\"\n",
    "data = requests.get(url).json()['data']\n",
    "#print(data)\n",
    "for coin, coin_data in data.items():\n",
    "    if type(coin_data) != type(dict()):\n",
    "        continue\n",
    "    else:\n",
    "        if float(coin_data['opening_price'])-float(coin_data['min_price']) > 0:\n",
    "            print('상승장')\n",
    "        else:\n",
    "            print('하락장')\n",
    "    "
   ]
  },
  {
   "cell_type": "markdown",
   "metadata": {},
   "source": [
    "# 평균점수\n",
    "> 다음 딕셔너리에서 평균 점수를 출력하라\n"
   ]
  },
  {
   "cell_type": "code",
   "execution_count": 3,
   "metadata": {},
   "outputs": [
    {
     "name": "stdout",
     "output_type": "stream",
     "text": [
      "83.25\n"
     ]
    }
   ],
   "source": [
    "student = {'python':80, 'algorithm':78, 'django':95, 'flask':80}\n",
    "total = 0\n",
    "for sub,score in student.items():\n",
    "    total = score + total\n",
    "print(total/len(student))\n"
   ]
  },
  {
   "cell_type": "code",
   "execution_count": 4,
   "metadata": {},
   "outputs": [
    {
     "name": "stdout",
     "output_type": "stream",
     "text": [
      "83.25\n"
     ]
    }
   ],
   "source": [
    "#풀이 1\n",
    "count = 0\n",
    "total_score = 0\n",
    "for key in student:\n",
    "    total_score += student[key]\n",
    "    count += 1\n",
    "print(total_score/count)\n",
    "\n"
   ]
  },
  {
   "cell_type": "code",
   "execution_count": 5,
   "metadata": {},
   "outputs": [
    {
     "data": {
      "text/plain": [
       "83.25"
      ]
     },
     "execution_count": 5,
     "metadata": {},
     "output_type": "execute_result"
    }
   ],
   "source": [
    "#풀이 2\n",
    "sum(student.values())/len(student)"
   ]
  },
  {
   "cell_type": "code",
   "execution_count": 6,
   "metadata": {},
   "outputs": [
    {
     "data": {
      "text/plain": [
       "[80, 78, 95, 80]"
      ]
     },
     "execution_count": 6,
     "metadata": {},
     "output_type": "execute_result"
    }
   ],
   "source": [
    "list(student.values())"
   ]
  },
  {
   "cell_type": "markdown",
   "metadata": {},
   "source": [
    "# 혈액형\n",
    "> 학생들의 혈액형(A,B,O,AB)에 대한 데이터가 리스트에 들어있다. 각 혈액형이 몇명인지 딕셔너리를 만들어 출력하라"
   ]
  },
  {
   "cell_type": "code",
   "execution_count": 3,
   "metadata": {},
   "outputs": [
    {
     "name": "stdout",
     "output_type": "stream",
     "text": [
      "A형은 5명, B형은 2명, O형은 4명,AB형은 3명,\n"
     ]
    }
   ],
   "source": [
    "blood = ['A','A','B','O','A','B','A','AB','AB','O','A','O','AB','O']\n",
    "A_count = 0\n",
    "B_count = 0\n",
    "O_count = 0\n",
    "AB_count = 0\n",
    "for string in blood:\n",
    "    if string == 'A':\n",
    "        A_count += 1\n",
    "    elif string == 'B':\n",
    "        B_count += 1    \n",
    "    elif string == 'O':\n",
    "        O_count += 1        \n",
    "    elif string == 'AB':\n",
    "        AB_count += 1    \n",
    "print (f'A형은 {A_count}명, B형은 {B_count}명, O형은 {O_count}명,AB형은 {AB_count}명,')"
   ]
  },
  {
   "cell_type": "code",
   "execution_count": 22,
   "metadata": {},
   "outputs": [
    {
     "name": "stdout",
     "output_type": "stream",
     "text": [
      "5\n",
      "{'A': 5, 'B': 2, 'O': 4, 'AB': 3}\n"
     ]
    }
   ],
   "source": [
    "# 풀이1\n",
    "c= []\n",
    "a = 0\n",
    "b = 0\n",
    "ab = 0\n",
    "o = 0\n",
    "\n",
    "print(blood.count('A'))\n",
    "a = c.append(blood.count('A'))\n",
    "b = c.append(blood.count('B'))\n",
    "o = c.append(blood.count('O'))\n",
    "ab = c.append(blood.count('AB'))\n",
    "\n",
    "d = ['A','B','O','AB']\n",
    "print(dict(zip(d,c)))"
   ]
  },
  {
   "cell_type": "code",
   "execution_count": 4,
   "metadata": {},
   "outputs": [
    {
     "name": "stdout",
     "output_type": "stream",
     "text": [
      "A\n",
      "A\n",
      "B\n",
      "O\n",
      "A\n",
      "B\n",
      "A\n",
      "AB\n",
      "AB\n",
      "O\n",
      "A\n",
      "O\n",
      "AB\n",
      "O\n",
      "{'A': 5, 'B': 2, 'O': 4, 'AB': 3}\n"
     ]
    }
   ],
   "source": [
    "# 풀이2\n",
    "blood_dict = {}\n",
    "# (반복)하나씩 꺼내서 확인한다.\n",
    "for blood_type in blood:\n",
    "#    print(blood_type)\n",
    "    #지금 나온적이 없으면, 키와 value1로 만든다.\n",
    "    if blood_type not in blood_dict.keys():\n",
    "        blood_dict[blood_type] = 1\n",
    "    else:\n",
    "        blood_dict[blood_type] += 1\n",
    "print(blood_dict)"
   ]
  },
  {
   "cell_type": "code",
   "execution_count": 19,
   "metadata": {
    "scrolled": false
   },
   "outputs": [
    {
     "data": {
      "text/plain": [
       "{'A': 5, 'AB': 3, 'B': 2, 'O': 4}"
      ]
     },
     "execution_count": 19,
     "metadata": {},
     "output_type": "execute_result"
    }
   ],
   "source": [
    "{blood_type: blood.count(blood_type) for blood_type in set(blood)}"
   ]
  },
  {
   "cell_type": "code",
   "execution_count": 20,
   "metadata": {
    "scrolled": true
   },
   "outputs": [
    {
     "data": {
      "text/plain": [
       "5"
      ]
     },
     "execution_count": 20,
     "metadata": {},
     "output_type": "execute_result"
    }
   ],
   "source": [
    "blood.count('A')"
   ]
  },
  {
   "cell_type": "markdown",
   "metadata": {},
   "source": [
    "# UBD\n",
    "> movies는 영화제목이 key로 누적관객수가 value인 딕셔너리이다. \n",
    ">\n",
    "> 자전차왕 엄복동의 누적관객수는 172212명이고 172212명을 1UBD라고 할때 80UBD를 넘지 못하는 영화를 출력하라."
   ]
  },
  {
   "cell_type": "code",
   "execution_count": 26,
   "metadata": {},
   "outputs": [
    {
     "name": "stdout",
     "output_type": "stream",
     "text": [
      "74.3920632708522\n",
      "7번방의선물\n",
      "75.60297772512949\n",
      "괴물\n",
      "82.78816226511509\n",
      "94.42441873969294\n",
      "75.39155227278006\n",
      "도둑들\n",
      "102.27906301535317\n",
      "77.89241748542494\n",
      "베테랑\n",
      "83.68031263791141\n",
      "79.11369707105196\n",
      "아바타\n",
      "80.72273128469561\n"
     ]
    }
   ],
   "source": [
    "movies = {\n",
    "    \"7번방의선물\":12811206,\n",
    "    \"괴물\":13019740,\n",
    "    \"국제시장\":14257115,\n",
    "    \"극한직업\":16261018,\n",
    "    \"도둑들\":12983330,\n",
    "    \"명량\":17613682,\n",
    "    \"베테랑\":13414009,\n",
    "    \"신과함께-죄와벌\":14410754,\n",
    "    \"아바타\":13624328,\n",
    "    \"어벤져스:엔드게임\":13901423,\n",
    "}\n",
    "UBD = 172212\n",
    "\n",
    "for name,person in movies.items():\n",
    "    print(person/UBD)\n",
    "    if person/UBD <80:\n",
    "        print(name)"
   ]
  }
 ],
 "metadata": {
  "kernelspec": {
   "display_name": "Python 3",
   "language": "python",
   "name": "python3"
  },
  "language_info": {
   "codemirror_mode": {
    "name": "ipython",
    "version": 3
   },
   "file_extension": ".py",
   "mimetype": "text/x-python",
   "name": "python",
   "nbconvert_exporter": "python",
   "pygments_lexer": "ipython3",
   "version": "3.7.3"
  },
  "toc": {
   "base_numbering": 1,
   "nav_menu": {},
   "number_sections": true,
   "sideBar": true,
   "skip_h1_title": false,
   "title_cell": "Table of Contents",
   "title_sidebar": "Contents",
   "toc_cell": false,
   "toc_position": {
    "height": "calc(100% - 180px)",
    "left": "10px",
    "top": "150px",
    "width": "221px"
   },
   "toc_section_display": true,
   "toc_window_display": true
  }
 },
 "nbformat": 4,
 "nbformat_minor": 2
}
