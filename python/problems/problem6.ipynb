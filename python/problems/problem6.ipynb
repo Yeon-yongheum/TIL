{
 "cells": [
  {
   "cell_type": "markdown",
   "metadata": {},
   "source": [
    "# 메소드 없는 세상 <1>\n",
    "\n",
    "> 알파벳으로 이뤄진 word를 입력받아 알파벳 대소문자를 서로 교환한 결과를 반환하는 `my_swapcase(word)`를 작성해주세요.\n",
    "\n",
    "**`.upper()`, `.lower()`, `swapcase()`는 사용하지 말아주세요.**\n",
    "\n",
    "**Tip! 문자와 숫자에는 특별한 관계가 있습니다. Google에서 아스키 코드를 참고하세요**\n",
    "\n",
    "```python\n",
    "# 예시\n",
    "print(my_swapcase('hello, World!')) # => HELLO, wORLD!\n",
    "print(my_swapcase('@_@')) # => @_@\n",
    "print(my_swapcase('2^3은 8이다!')) # => 2^3은 8이다!\n",
    "```"
   ]
  },
  {
   "cell_type": "code",
   "execution_count": 22,
   "metadata": {},
   "outputs": [],
   "source": [
    "# 아래에 코드를 작성해주세요.\n",
    "def my_swapcase(word):\n",
    "    result = ''\n",
    "    for c in word:\n",
    "        if 97 <= ord(c) <= 122:\n",
    "            result += chr(ord(c) - 32)\n",
    "        elif 65 <= ord(c) <= 90:\n",
    "            result += chr(ord(c) + 32)\n",
    "        else:\n",
    "            result += c\n",
    "    return result\n"
   ]
  },
  {
   "cell_type": "code",
   "execution_count": 316,
   "metadata": {},
   "outputs": [
    {
     "name": "stdout",
     "output_type": "stream",
     "text": [
      "HELLO, wORLD!\n",
      "@_@\n",
      "2^3은 8이다!A sSDdfqwFWQDfwqWQFWFWQFfqwS\n"
     ]
    }
   ],
   "source": [
    "print(my_swapcase('hello, World!'))\n",
    "print(my_swapcase('@_@'))\n",
    "print(my_swapcase('2^3은 8이다!a SsdDFQWfwqdFWQwqfwfwqfFQWs'))"
   ]
  },
  {
   "cell_type": "code",
   "execution_count": 317,
   "metadata": {},
   "outputs": [
    {
     "name": "stdout",
     "output_type": "stream",
     "text": [
      "97\n",
      "122\n",
      "65\n",
      "90\n"
     ]
    },
    {
     "data": {
      "text/plain": [
       "'W'"
      ]
     },
     "execution_count": 317,
     "metadata": {},
     "output_type": "execute_result"
    }
   ],
   "source": [
    "print(ord('a'))\n",
    "print(ord('z'))\n",
    "print(ord('A'))\n",
    "print(ord('Z'))\n",
    "a = ord('w')-32\n",
    "chr(a)\n",
    "\n"
   ]
  },
  {
   "cell_type": "code",
   "execution_count": null,
   "metadata": {},
   "outputs": [],
   "source": [
    "# 풀이\n",
    "def my_swapcase(word):\n",
    "    result = ''\n",
    "    # -32 대문자 -> 소문자\n",
    "    # +32 소문자 -> 대문자\n",
    "    for char in word:\n",
    "        # 소문자라면\n",
    "        if 97 <= ord(char) <= 122:\n",
    "            result += chr(ord(char) - 32)\n",
    "        # 대문자라면\n",
    "        elif 65 <= ord(char) <= 90:\n",
    "            result += chr(ord(char) + 32)\n",
    "        # 알파벳이 아닐 때\n",
    "        else:\n",
    "            result += char\n",
    "    return result"
   ]
  },
  {
   "cell_type": "markdown",
   "metadata": {},
   "source": [
    "# 메소드 없는 세상 <2>\n",
    "\n",
    "> 우리는 문자열을 만들어 나갈 때, `.join(iterable)` 함수를 사용합니다. \n",
    ">\n",
    "> `.join(iterable)`이 생각나지 않을 때를 위해 직접 만들어보면서 감사함을 느껴봅시다.\n",
    ">\n",
    "> `my_join(target, word)`를 만들어 문자열을 반환해주세요.\n",
    ">\n",
    "> target은 바꿀 대상(iterable)이며, word는 합쳐지는 단어입니다. \n",
    "\n",
    "---\n",
    "\n",
    "\n",
    "예시)\n",
    "\n",
    "`''.join(a)` 와 `my_join(a, '')`은 같은 함수 호출입니다.\n",
    "\n",
    "```python\n",
    "print(my_join('배고파', '.')) # => 배.고.파\n",
    "print(my_join(['1', '2', '3'], '')) # => 123\n",
    "```"
   ]
  },
  {
   "cell_type": "code",
   "execution_count": 323,
   "metadata": {},
   "outputs": [],
   "source": [
    "# 아래에 코드를 작성해주세요.\n",
    "def my_join(interable,word):\n",
    "    result = ''\n",
    "    for c in interable:\n",
    "        result += c\n",
    "        if c != interable[-1]:\n",
    "            result += word\n",
    "    return result\n",
    "        "
   ]
  },
  {
   "cell_type": "code",
   "execution_count": 324,
   "metadata": {
    "scrolled": true
   },
   "outputs": [
    {
     "name": "stdout",
     "output_type": "stream",
     "text": [
      "배.고.파\n",
      "123\n"
     ]
    }
   ],
   "source": [
    "print(my_join('배고파', '.'))\n",
    "print(my_join(['1', '2', '3'], ''))"
   ]
  },
  {
   "cell_type": "code",
   "execution_count": 325,
   "metadata": {},
   "outputs": [],
   "source": [
    "#풀이\n",
    "# 아래에 코드를 작성해주세요.\n",
    "def my_join(target,word):\n",
    "    result = ''\n",
    "    for idx,char in enumerate(target):\n",
    "        # 난 지금 마지막 횟수인 것을 알고 싶다.\n",
    "        # => 반복문 돌 떄마다 카운트, 마지막일 때 len(target)\n",
    "        \n",
    "        if idx == len(target):\n",
    "            result += char\n",
    "        else:\n",
    "            result += char + word\n",
    "    return result\n",
    "\n",
    "\n"
   ]
  },
  {
   "cell_type": "code",
   "execution_count": 330,
   "metadata": {},
   "outputs": [],
   "source": [
    "def my_join(target,word):\n",
    "    result = ''\n",
    "    for char in target:\n",
    "        result += char + word\n",
    "    return result[:-1] if result[-1] == word else result"
   ]
  },
  {
   "cell_type": "code",
   "execution_count": 331,
   "metadata": {},
   "outputs": [
    {
     "name": "stdout",
     "output_type": "stream",
     "text": [
      "배.고.파\n",
      "123\n"
     ]
    }
   ],
   "source": [
    "print(my_join('배고파', '.'))\n",
    "print(my_join(['1', '2', '3'], ''))"
   ]
  },
  {
   "cell_type": "code",
   "execution_count": 332,
   "metadata": {},
   "outputs": [],
   "source": [
    "def my_join(target,word):\n",
    "    result = target[0]\n",
    "    for char in target[1:]:\n",
    "        result += word + char \n",
    "    return result"
   ]
  },
  {
   "cell_type": "code",
   "execution_count": 333,
   "metadata": {},
   "outputs": [
    {
     "name": "stdout",
     "output_type": "stream",
     "text": [
      "배.고.파\n",
      "123\n"
     ]
    }
   ],
   "source": [
    "print(my_join('배고파', '.'))\n",
    "print(my_join(['1', '2', '3'], ''))"
   ]
  },
  {
   "cell_type": "markdown",
   "metadata": {},
   "source": [
    "#  가능한 적게 변경하기\n",
    "\n",
    "> 대문자와 소문자가 혼합되어 있는 문자열어 주어지며\n",
    ">\n",
    "> 다음의 기준에 따라서 문자열을 소문자 혹은 대문자로 변환하세요.\n",
    "\n",
    "\n",
    "*  가능한 적게 변경하세요.\n",
    "*  만약에 문자열의 대문자 혹은 소문자가 같다면, 문자열을 모두 소문자로 변경하세요.\n",
    "\n",
    "--- \n",
    "\n",
    "```python\n",
    "# 예시 입력) \n",
    "print(solve('coDe'))\n",
    "print(solve('CODe'))\n",
    "print(solve('coDE'))\n",
    "\n",
    "# 예시 출력)\n",
    "'code'\n",
    "'CODE'\n",
    "'code'\n",
    "```"
   ]
  },
  {
   "cell_type": "code",
   "execution_count": 38,
   "metadata": {},
   "outputs": [],
   "source": [
    "# 아래에 코드를 작성해주세요.\n",
    "def solve(word):\n",
    "    count_up = 0\n",
    "    count_down = 0\n",
    "    result = ''\n",
    "    for c in word:\n",
    "        if 65 <= ord(c) <= 90:\n",
    "            count_up += 1\n",
    "        elif 97 <= ord(c) <= 122:\n",
    "            count_down += 1\n",
    "    if count_up > count_down:\n",
    "        for c in word:\n",
    "            if 97 <= ord(c) <= 122:\n",
    "                result += chr(ord(c) - 32)\n",
    "\n",
    "            else:\n",
    "                result += c\n",
    "    else:\n",
    "        for c in word:\n",
    "            if 65 <= ord(c) <= 90:\n",
    "                result += chr(ord(c) + 32)\n",
    "            else:\n",
    "                result += c\n",
    "    return result\n",
    "                \n",
    "            "
   ]
  },
  {
   "cell_type": "code",
   "execution_count": 334,
   "metadata": {},
   "outputs": [
    {
     "name": "stdout",
     "output_type": "stream",
     "text": [
      "code\n",
      "CODE\n",
      "code\n"
     ]
    }
   ],
   "source": [
    "print(solve('coDe'))\n",
    "print(solve('CODe'))\n",
    "print(solve('coDE'))"
   ]
  },
  {
   "cell_type": "code",
   "execution_count": 351,
   "metadata": {},
   "outputs": [],
   "source": [
    "#\n",
    "def solve(word):\n",
    "    # 대문자 / 소문자 갯수를 확인.\n",
    "    lower = 0\n",
    "    upper = 0\n",
    "    for char in word:\n",
    "        if char.islower():\n",
    "            lower += 1\n",
    "        else:\n",
    "            upper += 1\n",
    "    if lower >= upper:\n",
    "        # 다 소문자\n",
    "        return word.lower()\n",
    "    else:\n",
    "        # 다 대문자\n",
    "        return word.upper()\n",
    "    print(lower,upper)"
   ]
  },
  {
   "cell_type": "code",
   "execution_count": 352,
   "metadata": {},
   "outputs": [
    {
     "name": "stdout",
     "output_type": "stream",
     "text": [
      "code\n",
      "CODE\n",
      "code\n"
     ]
    }
   ],
   "source": [
    "print(solve('coDe'))\n",
    "print(solve('CODe'))\n",
    "print(solve('coDE'))"
   ]
  },
  {
   "cell_type": "code",
   "execution_count": 355,
   "metadata": {},
   "outputs": [],
   "source": [
    "def solve(word):\n",
    "    count = sum([1 for char in word if char.isupper()])# 대문자 갯수\n",
    "    if count > (len(word)/2):# 대소 밖에 없으니 2로 나누기\n",
    "        return word.upper()\n",
    "    else:\n",
    "        return word.lower()"
   ]
  },
  {
   "cell_type": "code",
   "execution_count": 356,
   "metadata": {},
   "outputs": [
    {
     "name": "stdout",
     "output_type": "stream",
     "text": [
      "code\n",
      "CODE\n",
      "code\n"
     ]
    }
   ],
   "source": [
    "print(solve('coDe'))\n",
    "print(solve('CODe'))\n",
    "print(solve('coDE'))"
   ]
  },
  {
   "cell_type": "markdown",
   "metadata": {},
   "source": [
    "# 숨바꼭질\n",
    "\n",
    "> 숫자가 주어지면, 사용되지 않은 숫자를 프린트하세요.\n",
    "\n",
    "---\n",
    "\n",
    "```python\n",
    "# 예시)\n",
    "unused_digits(12, 34, 56, 78) # => '09'\n",
    "\n",
    "unused_digits(2015, 8, 26)  # => '3479'\n",
    "```\n",
    "\n",
    "\n",
    "**결과값은 정렬되어야 합니다.**\n",
    "\n"
   ]
  },
  {
   "cell_type": "code",
   "execution_count": 361,
   "metadata": {},
   "outputs": [],
   "source": [
    "# 아래에 코드를 작성해주세요.\n",
    "def unused_digits(*nums):\n",
    "    first = ''\n",
    "    result = ''\n",
    "    for num in nums:\n",
    "        first += str(num)\n",
    "    print(first)\n",
    "    for s in '0123456789':\n",
    "        if s not in first:\n",
    "            result += s\n",
    "            \n",
    "    return result\n",
    "    "
   ]
  },
  {
   "cell_type": "code",
   "execution_count": 362,
   "metadata": {},
   "outputs": [
    {
     "name": "stdout",
     "output_type": "stream",
     "text": [
      "12345678\n",
      "09\n",
      "2015826\n",
      "3479\n",
      "20158267777\n",
      "349\n"
     ]
    }
   ],
   "source": [
    "print(unused_digits(12, 34, 56, 78))\n",
    "print(unused_digits(2015, 8, 26))\n",
    "print(unused_digits(2015, 8, 267777))"
   ]
  },
  {
   "cell_type": "code",
   "execution_count": 359,
   "metadata": {},
   "outputs": [],
   "source": [
    "def unused_digits(*nums):\n",
    "    result = set('0123456789')\n",
    "    for num in nums:\n",
    "        result -= set(str(num))\n",
    "    return ''.join(sorted(result))"
   ]
  },
  {
   "cell_type": "code",
   "execution_count": 363,
   "metadata": {},
   "outputs": [
    {
     "name": "stdout",
     "output_type": "stream",
     "text": [
      "12345678\n",
      "09\n",
      "2015826\n",
      "3479\n",
      "20158267777\n",
      "349\n"
     ]
    }
   ],
   "source": [
    "print(unused_digits(12, 34, 56, 78))\n",
    "print(unused_digits(2015, 8, 26))\n",
    "print(unused_digits(2015, 8, 267777))"
   ]
  },
  {
   "cell_type": "code",
   "execution_count": 376,
   "metadata": {},
   "outputs": [],
   "source": [
    "def unused_digits(*nums):\n",
    "    result = list(map(str,range(10)))\n",
    "    tmp = ''\n",
    "    for num in nums:\n",
    "        tmp += str(num)\n",
    "    for s in tmp:\n",
    "        if s in result:\n",
    "            result.remove(s)\n",
    "            \n",
    "    return ''.join(result)"
   ]
  },
  {
   "cell_type": "code",
   "execution_count": 377,
   "metadata": {},
   "outputs": [
    {
     "name": "stdout",
     "output_type": "stream",
     "text": [
      "09\n",
      "3479\n",
      "349\n"
     ]
    }
   ],
   "source": [
    "print(unused_digits(12, 34, 56, 78))\n",
    "print(unused_digits(2015, 8, 26))\n",
    "print(unused_digits(2015, 8, 267777))"
   ]
  },
  {
   "cell_type": "markdown",
   "metadata": {},
   "source": [
    "# 짝홀짝홀"
   ]
  },
  {
   "cell_type": "markdown",
   "metadata": {},
   "source": [
    "> n개의 양의 정수 리스트가 주어지면, 홀수와 짝수를 분리하고 각각의 조건에 맞게 홀수와 짝수를 \n",
    "정렬하세요.\n",
    "\n",
    "> 조건\n",
    "1. 짝수와 홀수가 번갈아 가면서 나오게 됩니다.\n",
    "2. 짝수가 먼저 시작됩니다.\n",
    "3. 짝수는 오름차순으로 홀수는 내림차순으로 되어야합니다.\n",
    "\n",
    "> 실습 입력 인자 조건\n",
    "1. 인자 리스트의 크기는 적어도 4이상입니다.\n",
    "2. 인자 리스트의 요소값으로 0은 존재하지 않습니다.\n",
    "3. 인자 리스트의 요소값이 반복될 수 있으나 출력할 때는 중복 값이 없습니다.\n",
    "\n",
    "```python\n",
    "# 예시) \n",
    "\n",
    "print(even_and_odd([7, 3 , 14 , 17]))\n",
    "# => [14, 17, 7, 3]\n",
    "\n",
    "print(even_and_odd([1, 3, 5, 7, 9, 11]))\n",
    "# => [11, 9, 7, 5, 3, 1]\n",
    "\n",
    "print(even_and_odd([1, 2, 2, 4, 4, 6, 6, 2004, 9, 11]))\n",
    "# => [2, 11, 4, 9, 6, 1, 2004]\n",
    "```"
   ]
  },
  {
   "cell_type": "code",
   "execution_count": 312,
   "metadata": {},
   "outputs": [],
   "source": [
    "# 여기에 코드를 작성하세요\n",
    "def even_and_odd(nums):\n",
    "    if len(nums) < 4:\n",
    "        return print('4개이상넣으시오')\n",
    "    result = []\n",
    "    even = []\n",
    "    odd = []\n",
    "    con = 0\n",
    "    for num in nums:\n",
    "        if num % 2:\n",
    "            if num not in odd:\n",
    "                odd.append(num)\n",
    "        else:\n",
    "            if num not in even:\n",
    "                even.append(num)\n",
    "    odd.sort()\n",
    "    odd = odd[::-1]\n",
    "    even.sort()\n",
    "    if len(odd) >= len(even):\n",
    "        long = len(odd)\n",
    "        short = len(even)\n",
    "    else:\n",
    "        long = len(even)\n",
    "        short = len(odd)\n",
    "    for i in range(short):\n",
    "        result.append(even[i])\n",
    "        result.append(odd[i])\n",
    "        con = i\n",
    "    for j in range(con+1,long):\n",
    "        if len(odd) > len(even):\n",
    "            result.append(odd[j])\n",
    "        elif len(even) > len(odd):\n",
    "            result.append(even[j])\n",
    "        \n",
    "    \n",
    "    print(odd,even) \n",
    "    return result"
   ]
  },
  {
   "cell_type": "code",
   "execution_count": 371,
   "metadata": {
    "scrolled": true
   },
   "outputs": [
    {
     "name": "stdout",
     "output_type": "stream",
     "text": [
      "[17, 7, 3] [14]\n",
      "[14, 17, 7, 3]\n",
      "[11, 9, 7, 5, 3, 1] []\n",
      "[9, 7, 5, 3, 1]\n",
      "[11, 9, 1] [2, 4, 6, 2004]\n",
      "[2, 11, 4, 9, 6, 1, 2004]\n"
     ]
    }
   ],
   "source": [
    "print(even_and_odd([7, 3, 14, 17]))\n",
    "print(even_and_odd([1, 3, 5, 7, 9, 11]))\n",
    "print(even_and_odd([1, 2, 2, 4, 4, 6, 6, 2004, 9, 11]))"
   ]
  },
  {
   "cell_type": "code",
   "execution_count": 409,
   "metadata": {},
   "outputs": [],
   "source": [
    "def even_and_odd(numbers):\n",
    "    # 1. 짝/홀 분리 - 정렬+ 중복제거\n",
    "    \n",
    "    # 중복제거하고 정렬하면서 짝수\n",
    "    even = [i for i in sorted((set(numbers))) if not i%2]\n",
    "    print(even)\n",
    "    # 중복제거하고 정렬하면서 홀수\n",
    "    odd = [i for i in sorted((set(numbers))) if i%2][::-1]\n",
    "    print(odd)\n",
    "    # 2. 결과를 만든다.\n",
    "    # 짝 홀 길이중 큰것or 작은것으로 돌림\n",
    "    if len(even) > len(odd):\n",
    "        tmp = even[len(odd):]  # 홀수 길이 이후 것을 따로 저장\n",
    "        even = even[:len(odd)] # 홀수 길이만큼 저장\n",
    "    else:\n",
    "        tmp = odd[len(even):]  # 짝수 길이 이후 것을 따로 저장\n",
    "        odd = odd[:len(even)] # 짝수 길이만큼 저장\n",
    "    \n",
    "    # 결과통\n",
    "    result = []\n",
    "    for even_num, odd_num in zip(even, odd):\n",
    "        result.append(even_num)\n",
    "        result.append(odd_num)\n",
    "    return result + tmp"
   ]
  },
  {
   "cell_type": "code",
   "execution_count": 410,
   "metadata": {},
   "outputs": [
    {
     "name": "stdout",
     "output_type": "stream",
     "text": [
      "[14]\n",
      "[17, 7, 3]\n",
      "[14, 17, 7, 3]\n",
      "[]\n",
      "[11, 9, 7, 5, 3, 1]\n",
      "[11, 9, 7, 5, 3, 1]\n",
      "[2, 4, 6, 2004]\n",
      "[11, 9, 1]\n",
      "[2, 11, 4, 9, 6, 1, 2004]\n"
     ]
    }
   ],
   "source": [
    "print(even_and_odd([7, 3, 14, 17]))\n",
    "print(even_and_odd([1, 3, 5, 7, 9, 11]))\n",
    "print(even_and_odd([1, 2, 2, 4, 4, 6, 6, 2004, 9, 11]))"
   ]
  },
  {
   "cell_type": "code",
   "execution_count": 411,
   "metadata": {},
   "outputs": [
    {
     "ename": "NameError",
     "evalue": "name 'even' is not defined",
     "output_type": "error",
     "traceback": [
      "\u001b[1;31m---------------------------------------------------------------------------\u001b[0m",
      "\u001b[1;31mNameError\u001b[0m                                 Traceback (most recent call last)",
      "\u001b[1;32m<ipython-input-411-43a30dd8465f>\u001b[0m in \u001b[0;36m<module>\u001b[1;34m\u001b[0m\n\u001b[0;32m      1\u001b[0m \u001b[1;31m# 정렬및 중복 제거 후에\u001b[0m\u001b[1;33m\u001b[0m\u001b[1;33m\u001b[0m\u001b[1;33m\u001b[0m\u001b[0m\n\u001b[0;32m      2\u001b[0m \u001b[1;32mwhile\u001b[0m \u001b[1;32mTrue\u001b[0m\u001b[1;33m:\u001b[0m\u001b[1;33m\u001b[0m\u001b[1;33m\u001b[0m\u001b[0m\n\u001b[1;32m----> 3\u001b[1;33m     \u001b[1;32mif\u001b[0m \u001b[0mlen\u001b[0m\u001b[1;33m(\u001b[0m\u001b[0meven\u001b[0m\u001b[1;33m)\u001b[0m \u001b[1;33m==\u001b[0m \u001b[1;36m0\u001b[0m \u001b[1;32mand\u001b[0m \u001b[0mlen\u001b[0m\u001b[1;33m(\u001b[0m\u001b[0modd\u001b[0m\u001b[1;33m)\u001b[0m \u001b[1;33m==\u001b[0m \u001b[1;36m0\u001b[0m\u001b[1;33m:\u001b[0m\u001b[1;33m\u001b[0m\u001b[1;33m\u001b[0m\u001b[0m\n\u001b[0m\u001b[0;32m      4\u001b[0m         \u001b[1;32mbreak\u001b[0m\u001b[1;33m\u001b[0m\u001b[1;33m\u001b[0m\u001b[0m\n\u001b[0;32m      5\u001b[0m     \u001b[1;32mif\u001b[0m \u001b[0mlen\u001b[0m\u001b[1;33m(\u001b[0m\u001b[0meven\u001b[0m\u001b[1;33m)\u001b[0m \u001b[1;33m>\u001b[0m \u001b[1;36m0\u001b[0m\u001b[1;33m:\u001b[0m\u001b[1;33m\u001b[0m\u001b[1;33m\u001b[0m\u001b[0m\n",
      "\u001b[1;31mNameError\u001b[0m: name 'even' is not defined"
     ]
    }
   ],
   "source": [
    "# 정렬및 중복 제거 후에\n",
    "while True:\n",
    "    if len(even) == 0 and len(odd) == 0:\n",
    "        break\n",
    "    if len(even) > 0:\n",
    "        result.append(even.pop())\n",
    "    if len(odd) > 0:\n",
    "        result.append(odd.pop())"
   ]
  },
  {
   "cell_type": "code",
   "execution_count": 435,
   "metadata": {},
   "outputs": [
    {
     "name": "stdout",
     "output_type": "stream",
     "text": [
      "3 1\n",
      "[1, 2] 2\n",
      "[1] 3\n",
      "[2] 4\n",
      "[] 5\n",
      "[] 6\n",
      "[2] 7\n",
      "[3] 8\n",
      "[3, 2, 1] 9\n",
      "[1, 2, 3] 10\n",
      "[1] 11\n"
     ]
    }
   ],
   "source": [
    "a = [1, 2, 3]\n",
    "print(a[-1],1) #마지막\n",
    "print(a[:-1],2)\n",
    "print(a[:-2],3)#마지막빼거\n",
    "print(a[1:2],4)\n",
    "print(a[1:1],5)\n",
    "print(a[-1:-2],6)\n",
    "print(a[-2:-1],7)\n",
    "print(a[-1:],8)\n",
    "print(a[::-1],9) #뒤집어\n",
    "print(a[-3:],10)\n",
    "print(a[-3::-1],11)"
   ]
  },
  {
   "cell_type": "markdown",
   "metadata": {},
   "source": [
    "# 문자열 계산하기\n",
    "\n",
    "> 아래와 같이 문자열이 주어졌을 때, 바보같은 사용자를 위해 계산을 해주려고 한다.\n",
    ">\n",
    "> 이 계산기는 더하기와 빼기밖에 못한다.\n",
    ">\n",
    "> `calc(equation)`을 만들어봅시다.\n",
    "\n",
    "\n",
    "```python\n",
    "# 예시\n",
    "calc('123+2-124')\n",
    "#=> 1\n",
    "\n",
    "calc('-12+12-7979+9191')\n",
    "#=> 1212\n",
    "\n",
    "calc('+1-1+1-1+1-1+1-1+1-1+1-1+1-1+1-1+1-1+1-1+1-1+1-1+1-1+1-1+1-1+1-1')\n",
    "#=> 0\n",
    "```"
   ]
  },
  {
   "cell_type": "code",
   "execution_count": 216,
   "metadata": {},
   "outputs": [],
   "source": [
    "# 여기에 코드를 작성하세요.\n",
    "def calc(word):\n",
    "    first = ''\n",
    "    result = []\n",
    "    result_num = 0\n",
    "    for s in word:\n",
    "        if 48 <= ord(s) <= 57:\n",
    "            first += s\n",
    "        else:\n",
    "            if first == '':\n",
    "                result.append(s)\n",
    "            else:\n",
    "                result.append(first)\n",
    "                result.append(s)\n",
    "            first = ''\n",
    "    result.append(first)\n",
    "#     print(result)\n",
    "#     print(first)\n",
    "    if result[0] in '-+':\n",
    "        result[0] = result[0]+result[1]\n",
    "        for i in range(2, len(result)):\n",
    "            result[i-1] = result[i]\n",
    "        del result[-1]\n",
    "#     print (result)\n",
    "    result_num = int(result[0])\n",
    "    \n",
    "    \n",
    "    \n",
    "    \n",
    "    \n",
    "    \n",
    "    for cal in range(len(result)):\n",
    "        if result[cal] == '+':\n",
    "            result_num = result_num + int(result[cal+1])\n",
    "        elif result[cal] == '-':\n",
    "            result_num = result_num - int(result[cal+1])\n",
    "    return result_num\n",
    "            \n",
    "        "
   ]
  },
  {
   "cell_type": "code",
   "execution_count": 217,
   "metadata": {},
   "outputs": [
    {
     "name": "stdout",
     "output_type": "stream",
     "text": [
      "43 45 42 47 48 57\n"
     ]
    }
   ],
   "source": [
    "print(ord('+'),ord('-'),ord('*'),ord('/'),ord('0'),ord('9'))"
   ]
  },
  {
   "cell_type": "code",
   "execution_count": 181,
   "metadata": {},
   "outputs": [
    {
     "name": "stdout",
     "output_type": "stream",
     "text": [
      "1\n",
      "1212\n",
      "0\n"
     ]
    }
   ],
   "source": [
    "print(calc('123+2-124'))\n",
    "print(calc('-12+12-7979+9191'))\n",
    "print(calc('+1-1+1-1+1-1+1-1+1-1+1-1+1-1+1-1+1-1+1-1+1-1+1-1+1-1+1-1+1-1+1-1'))"
   ]
  },
  {
   "cell_type": "code",
   "execution_count": 308,
   "metadata": {},
   "outputs": [],
   "source": [
    "# 여기에 코드를 작성하세요. 곱셈 나눗샘까지\n",
    "def calc(word):\n",
    "    first = ''\n",
    "    result = []\n",
    "    result2 = []\n",
    "    result_num = 0\n",
    "    temp = ''\n",
    "    for s in word:\n",
    "        if 48 <= ord(s) <= 57 or ord(s) == 46:\n",
    "            first += s\n",
    "        else:\n",
    "            if first == '':\n",
    "                result.append(s)\n",
    "            else:\n",
    "                result.append(first)\n",
    "                result.append(s)\n",
    "            first = ''\n",
    "    result.append(first)\n",
    "#     print(result)\n",
    "#     print(first)\n",
    "    if result[0] in '-+':\n",
    "        result[0] = result[0]+result[1]\n",
    "        for i in range(2, len(result)):\n",
    "            result[i-1] = result[i]\n",
    "        del result[-1]\n",
    "#     print (result)\n",
    "\n",
    "    for cal in range(len(result)):\n",
    "        if result[cal] == '*':\n",
    "            temp = float(result2[-1])\n",
    "            a = temp*float(result[cal+1])\n",
    "#             print(a)\n",
    "            del result2[-1]\n",
    "            result2.append(str(a))\n",
    "#             print(result2)\n",
    "        elif result[cal] == '/':\n",
    "            temp = float(result2[-1])\n",
    "            a = temp/float(result[cal+1])\n",
    "#             print(a)\n",
    "            del result2[-1]\n",
    "            result2.append(str(a))\n",
    "#             print(result2)\n",
    "\n",
    "        else:\n",
    "            if result[cal-1] not in '*/':\n",
    "                result2.append(result[cal])\n",
    "#         print(result2,cal)\n",
    "\n",
    "    result_num = float(result2[0])\n",
    "      \n",
    "    for cal in range(len(result2)):\n",
    "        if result2[cal] == '+':\n",
    "            result_num = result_num + float(result2[cal+1])\n",
    "#             print(result2[cal+1])\n",
    "#             print(result_num)\n",
    "        elif result2[cal] == '-':\n",
    "            result_num = result_num - float(result2[cal+1])\n",
    "#             print(result2[cal+1])\n",
    "#             print(result_num)\n",
    "    return result_num\n",
    "            \n",
    "        "
   ]
  },
  {
   "cell_type": "code",
   "execution_count": 311,
   "metadata": {
    "scrolled": true
   },
   "outputs": [
    {
     "name": "stdout",
     "output_type": "stream",
     "text": [
      "1.0\n",
      "1212.0\n",
      "0.0\n",
      "12.0\n",
      "-2472750.6\n"
     ]
    }
   ],
   "source": [
    "print(calc('123+2-124'))\n",
    "print(calc('-12+12-7979+9191'))\n",
    "print(calc('+1-1+1-1+1-1+1-1+1-1+1-1+1-1+1-1+1-1+1-1+1-1+1-1+1-1+1-1+1-1+1-1'))\n",
    "\n",
    "print(calc('3+4+5/5*3+2'))\n",
    "print(calc('4124+54-545*4545/45*45+45.4+51'))"
   ]
  },
  {
   "cell_type": "code",
   "execution_count": 412,
   "metadata": {},
   "outputs": [],
   "source": [
    "def calc(equation):\n",
    "    # 결과통 : 숫자\n",
    "    result = 0\n",
    "    # 임시통 -> 부호만나기전까지\n",
    "    tmp = ''\n",
    "    for char in equation:\n",
    "        if tmp and not char.isdecimal(): # if char in '0123456789'\n",
    "            # 부호 만난거니까\n",
    "            # result에 숫자를 더해서 만들고,\n",
    "            result += int(tmp)\n",
    "            tmp = ''\n",
    "            # tmp 초기화 -> 부호만\n",
    "            # tmp = char\n",
    "        # else : \n",
    "        #    tmp += char\n",
    "        tmp += char\n",
    "    return result"
   ]
  },
  {
   "cell_type": "code",
   "execution_count": 413,
   "metadata": {},
   "outputs": [
    {
     "name": "stdout",
     "output_type": "stream",
     "text": [
      "125\n",
      "-7979\n",
      "1\n"
     ]
    }
   ],
   "source": [
    "print(calc('123+2-124'))\n",
    "print(calc('-12+12-7979+9191'))\n",
    "print(calc('+1-1+1-1+1-1+1-1+1-1+1-1+1-1+1-1+1-1+1-1+1-1+1-1+1-1+1-1+1-1+1-1'))\n"
   ]
  },
  {
   "cell_type": "code",
   "execution_count": null,
   "metadata": {},
   "outputs": [],
   "source": []
  }
 ],
 "metadata": {
  "kernelspec": {
   "display_name": "Python 3",
   "language": "python",
   "name": "python3"
  },
  "language_info": {
   "codemirror_mode": {
    "name": "ipython",
    "version": 3
   },
   "file_extension": ".py",
   "mimetype": "text/x-python",
   "name": "python",
   "nbconvert_exporter": "python",
   "pygments_lexer": "ipython3",
   "version": "3.7.3"
  },
  "latex_envs": {
   "LaTeX_envs_menu_present": true,
   "autoclose": false,
   "autocomplete": true,
   "bibliofile": "biblio.bib",
   "cite_by": "apalike",
   "current_citInitial": 1,
   "eqLabelWithNumbers": true,
   "eqNumInitial": 1,
   "hotkeys": {
    "equation": "Ctrl-E",
    "itemize": "Ctrl-I"
   },
   "labels_anchors": false,
   "latex_user_defs": false,
   "report_style_numbering": false,
   "user_envs_cfg": false
  },
  "toc": {
   "base_numbering": 1,
   "nav_menu": {},
   "number_sections": true,
   "sideBar": true,
   "skip_h1_title": false,
   "title_cell": "Table of Contents",
   "title_sidebar": "Contents",
   "toc_cell": false,
   "toc_position": {},
   "toc_section_display": true,
   "toc_window_display": false
  }
 },
 "nbformat": 4,
 "nbformat_minor": 2
}
